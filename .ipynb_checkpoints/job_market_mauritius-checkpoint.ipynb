{
 "cells": [
  {
   "cell_type": "code",
   "execution_count": 21,
   "id": "80e15f57-2ab5-4492-b2fa-b4b71a87d97a",
   "metadata": {},
   "outputs": [],
   "source": [
    "# improt libraries\n",
    "import requests\n",
    "from bs4 import BeautifulSoup\n",
    "import pandas as pd\n"
   ]
  },
  {
   "cell_type": "code",
   "execution_count": 22,
   "id": "dda93aac-26eb-46f6-af52-2886eb0cf4ee",
   "metadata": {},
   "outputs": [],
   "source": [
    "# scrape job data using BEautifulSoup and requests\n",
    "\n",
    "# scrape www.myjob.mu\n",
    "def scrape_myjob_mu(url):\n",
    "    # Make a request to the URL\n",
    "    page = requests.get(url)\n",
    "    soup = BeautifulSoup(page.content, 'html.parser')\n",
    "\n",
    "    # Extract relevant data from the page\n",
    "    jobs = []\n",
    "    for job_element in soup.find_all(class_='job-item'):\n",
    "        title = job_element.find('h4', class_='job-title').get_text(strip=True)\n",
    "        company = job_element.find('span', class_='company-name').get_text(strip=True)\n",
    "        location = job_element.find('span', class_='job-location').get_text(strip=True)\n",
    "        jobs.append({\n",
    "            'title': title,\n",
    "            'company': company,\n",
    "            'location': location\n",
    "        })\n",
    "    return jobs\n",
    "\n",
    "# scrape Linkedin\n",
    "# def scrape_linkedin(url):\n",
    "#     # Make a request to the URL\n",
    "#     page = requests.get(url)\n",
    "#     soup = BeautifulSoup(page.content, 'html.parser')\n",
    "\n",
    "#     # Extract relevant data from the page\n",
    "#     jobs = []\n",
    "#     for job_element in soup.find_all(class_='job-item'):\n",
    "#         title = job_element.find('h4', class_='job-title').get_text(strip=True)\n",
    "#         company = job_element.find('span', class_='company-name').get_text(strip=True)\n",
    "#         location = job_element.find('span', class_='job-location').get_text(strip=True)\n",
    "#         jobs.append({\n",
    "#             'title': title,\n",
    "#             'company': company,\n",
    "#             'location': location\n",
    "#         })\n",
    "#     return jobs\n",
    "\n",
    "def collect_job_data():\n",
    "    # Scrape job data from different websites\n",
    "    myjob_mu_data = scrape_myjob_mu('https://www.myjob.mu/ShowResults.aspx?Keywords=&Location=&Category=')\n",
    "    # linkedin_data = scrape_linkedin('https://www.linkedin.com/jobs/')\n",
    "    # adecco_data = scrape_adecco('...')\n",
    "\n",
    "    all_job_data = myjob_mu_data  # + linkedin_data + adecco_data\n",
    "    return all_job_data\n"
   ]
  },
  {
   "cell_type": "code",
   "execution_count": 23,
   "id": "bab9f3b1-2c91-49fe-9708-7b0ca7dcf38e",
   "metadata": {},
   "outputs": [
    {
     "name": "stdout",
     "output_type": "stream",
     "text": [
      "Empty DataFrame\n",
      "Columns: []\n",
      "Index: []\n"
     ]
    }
   ],
   "source": [
    "# function to create job dataframe \n",
    "\n",
    "def create_data_frame(job_data):\n",
    "    df = pd.DataFrame(job_data)\n",
    "    return df\n",
    "\n",
    "job_data = collect_job_data()\n",
    "job_df = create_data_frame(job_data)\n",
    "\n",
    "print(job_df.head())"
   ]
  },
  {
   "cell_type": "code",
   "execution_count": null,
   "id": "665d450d-3b67-48f9-9b1b-5c748a5f31e8",
   "metadata": {},
   "outputs": [],
   "source": []
  },
  {
   "cell_type": "code",
   "execution_count": null,
   "id": "f8634525-0c43-412e-976d-584c65b001a1",
   "metadata": {},
   "outputs": [],
   "source": []
  }
 ],
 "metadata": {
  "kernelspec": {
   "display_name": "Python 3 (ipykernel)",
   "language": "python",
   "name": "python3"
  },
  "language_info": {
   "codemirror_mode": {
    "name": "ipython",
    "version": 3
   },
   "file_extension": ".py",
   "mimetype": "text/x-python",
   "name": "python",
   "nbconvert_exporter": "python",
   "pygments_lexer": "ipython3",
   "version": "3.11.2"
  }
 },
 "nbformat": 4,
 "nbformat_minor": 5
}
